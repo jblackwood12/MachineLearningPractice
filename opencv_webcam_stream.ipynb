{
 "cells": [
  {
   "cell_type": "code",
   "execution_count": 15,
   "metadata": {},
   "outputs": [],
   "source": [
    "# Setup resnet50 image model\n",
    "# Ensure correct conda environment is activated\n",
    "# For me, use \"conda activate env_tensorflow_rc\" in terminal before running \"jupyter notebook\"\n",
    "\n",
    "from tensorflow.keras.applications import ResNet50\n",
    "from tensorflow.keras.preprocessing import image\n",
    "from tensorflow.keras.applications.resnet50 import preprocess_input, decode_predictions\n",
    "import numpy as np\n",
    "\n",
    "# Need to use specific version of TensorFlow that includes keras and resnet50\n",
    "# print(tf.__version__) # should be 2.1.0-rc0\n",
    "# This can be installed using pip install since it is not available with conda install or conda-forge\n",
    "\n",
    "model = ResNet50(weights='imagenet')"
   ]
  },
  {
   "cell_type": "code",
   "execution_count": 16,
   "metadata": {
    "scrolled": false
   },
   "outputs": [],
   "source": [
    "%matplotlib inline\n",
    "\n",
    "import cv2\n",
    "import matplotlib.pyplot as plt\n",
    "from IPython import display\n",
    "import PIL.Image\n",
    "import PIL.ImageFilter\n",
    "import PIL.ImageEnhance as ImageEnhance\n",
    "import io\n",
    "import time\n",
    "import numpy as np\n",
    "\n",
    "vc = cv2.VideoCapture(0)\n",
    "\n",
    "if vc.isOpened():\n",
    "    is_capturing, frame = vc.read()\n",
    "else:\n",
    "    is_capturing = False\n",
    "\n",
    "while is_capturing:\n",
    "    is_capturing, frame = vc.read()\n",
    "    frame = cv2.cvtColor(frame, cv2.COLOR_BGR2RGB)\n",
    "\n",
    "    # Convert to numpy array\n",
    "    image_array = np.array(frame)\n",
    "    image_array_modified = image_array.copy()\n",
    "\n",
    "    x = image_array_modified\n",
    "\n",
    "    # Resize the image from the webcam to size expected by resnet50 model (224x224).\n",
    "    x = cv2.resize(x, dsize=(224, 224), interpolation=cv2.INTER_CUBIC)\n",
    "    x = np.expand_dims(x, axis=0)\n",
    "    x = preprocess_input(x)\n",
    "\n",
    "    preds = model.predict(x)\n",
    "\n",
    "    plt.xticks([])\n",
    "    plt.yticks([])\n",
    "\n",
    "    top_predictions = decode_predictions(preds, top=3)[0]\n",
    "    \n",
    "    # Show the top 3 predictions\n",
    "    plt.text(0, 550, top_predictions[0][1] + '   ' + \"{0:.0%}\".format(top_predictions[0][2]))\n",
    "    plt.text(0, 580, top_predictions[1][1] + '   ' + \"{0:.0%}\".format(top_predictions[1][2]))\n",
    "    plt.text(0, 610, top_predictions[2][1] + '   ' + \"{0:.0%}\".format(top_predictions[2][2]))\n",
    "    \n",
    "    # Display predictions on the plot\n",
    "    webcam_preview = plt.imshow(image_array_modified)\n",
    "    display.clear_output(wait=True)\n",
    "\n",
    "    plt.pause(0.3)"
   ]
  },
  {
   "cell_type": "markdown",
   "metadata": {},
   "source": [
    "Here is a demo of testing a soccerball with the resnet50 model. \n",
    "\n",
    "![title](DemoPictures/soccer_ball_test.png)"
   ]
  },
  {
   "cell_type": "code",
   "execution_count": null,
   "metadata": {},
   "outputs": [],
   "source": []
  }
 ],
 "metadata": {
  "kernelspec": {
   "display_name": "Python 3",
   "language": "python",
   "name": "python3"
  },
  "language_info": {
   "codemirror_mode": {
    "name": "ipython",
    "version": 3
   },
   "file_extension": ".py",
   "mimetype": "text/x-python",
   "name": "python",
   "nbconvert_exporter": "python",
   "pygments_lexer": "ipython3",
   "version": "3.6.10"
  }
 },
 "nbformat": 4,
 "nbformat_minor": 4
}
